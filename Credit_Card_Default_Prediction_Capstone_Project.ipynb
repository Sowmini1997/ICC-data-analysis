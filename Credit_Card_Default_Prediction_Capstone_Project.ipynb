{
  "nbformat": 4,
  "nbformat_minor": 0,
  "metadata": {
    "colab": {
      "name": "Credit Card Default Prediction - Capstone Project.ipynb",
      "provenance": [],
      "collapsed_sections": [],
      "include_colab_link": true
    },
    "kernelspec": {
      "display_name": "Python 3",
      "language": "python",
      "name": "python3"
    },
    "language_info": {
      "codemirror_mode": {
        "name": "ipython",
        "version": 3
      },
      "file_extension": ".py",
      "mimetype": "text/x-python",
      "name": "python",
      "nbconvert_exporter": "python",
      "pygments_lexer": "ipython3",
      "version": "3.6.6"
    }
  },
  "cells": [
    {
      "cell_type": "markdown",
      "metadata": {
        "id": "view-in-github",
        "colab_type": "text"
      },
      "source": [
        "<a href=\"https://colab.research.google.com/github/Sowmini1997/ICC-data-analysis/blob/main/Credit_Card_Default_Prediction_Capstone_Project.ipynb\" target=\"_parent\"><img src=\"https://colab.research.google.com/assets/colab-badge.svg\" alt=\"Open In Colab\"/></a>"
      ]
    },
    {
      "cell_type": "markdown",
      "metadata": {
        "id": "tOGC-qoyhJeX"
      },
      "source": [
        "# <b><u> Project Title : Predicting whether a customer will default on his/her credit card </u></b>"
      ]
    },
    {
      "cell_type": "markdown",
      "metadata": {
        "id": "Y06xIdG26kRF"
      },
      "source": [
        "## <b> Problem Description </b>\n",
        "\n",
        "### This project is aimed at predicting the case of customers default payments in Taiwan. From the perspective of risk management, the result of predictive accuracy of the estimated probability of default will be more valuable than the binary result of classification - credible or not credible clients. We can use the [K-S chart](https://www.listendata.com/2019/07/KS-Statistics-Python.html) to evaluate which customers will default on their credit card payments\n"
      ]
    },
    {
      "cell_type": "markdown",
      "metadata": {
        "id": "AlLxAtlziMbP"
      },
      "source": [
        "## <b> Data Description </b>\n",
        "\n",
        "### <b>Attribute Information: </b>\n",
        "\n",
        "### This research employed a binary variable, default payment (Yes = 1, No = 0), as the response variable. This study reviewed the literature and used the following 23 variables as explanatory variables:\n",
        "* ### X1: Amount of the given credit (NT dollar): it includes both the individual consumer credit and his/her family (supplementary) credit.\n",
        "* ### X2: Gender (1 = male; 2 = female).\n",
        "* ### X3: Education (1 = graduate school; 2 = university; 3 = high school; 4 = others).\n",
        "* ### X4: Marital status (1 = married; 2 = single; 3 = others).\n",
        "* ### X5: Age (year).\n",
        "* ### X6 - X11: History of past payment. We tracked the past monthly payment records (from April to September, 2005) as follows: X6 = the repayment status in September, 2005; X7 = the repayment status in August, 2005; . . .;X11 = the repayment status in April, 2005. The measurement scale for the repayment status is: -1 = pay duly; 1 = payment delay for one month; 2 = payment delay for two months; . . .; 8 = payment delay for eight months; 9 = payment delay for nine months and above.\n",
        "* ### X12-X17: Amount of bill statement (NT dollar). X12 = amount of bill statement in September, 2005; X13 = amount of bill statement in August, 2005; . . .; X17 = amount of bill statement in April, 2005.\n",
        "* ### X18-X23: Amount of previous payment (NT dollar). X18 = amount paid in September, 2005; X19 = amount paid in August, 2005; . . .;X23 = amount paid in April, 2005."
      ]
    },
    {
      "cell_type": "code",
      "metadata": {
        "id": "dByMsuzT8Tnw"
      },
      "source": [
        "import pandas as pd"
      ],
      "execution_count": null,
      "outputs": []
    },
    {
      "cell_type": "code",
      "metadata": {
        "id": "oRAVoNIHVMky"
      },
      "source": [
        "import numpy as np\n",
        "import matplotlib.pyplot as plt\n",
        "import seaborn as sns\n",
        "import os\n",
        "import sys\n",
        "%matplotlib inline\n",
        "import warnings\n",
        "warnings.filterwarnings('ignore')"
      ],
      "execution_count": null,
      "outputs": []
    },
    {
      "cell_type": "code",
      "metadata": {
        "colab": {
          "base_uri": "https://localhost:8080/"
        },
        "id": "nEx389CdIOs-",
        "outputId": "bdf83fa1-d629-4f50-8ed2-ad8bc6074813"
      },
      "source": [
        "from google.colab import drive\n",
        "drive.mount('/content/drive')"
      ],
      "execution_count": null,
      "outputs": [
        {
          "output_type": "stream",
          "name": "stdout",
          "text": [
            "Drive already mounted at /content/drive; to attempt to forcibly remount, call drive.mount(\"/content/drive\", force_remount=True).\n"
          ]
        }
      ]
    },
    {
      "cell_type": "code",
      "metadata": {
        "id": "-5FG5IJvMXie"
      },
      "source": [
        "df = pd.read_excel(\"/content/drive/MyDrive/Credit Card Default Prediction - Raavi Sowmini/Data & Resources/default of credit card clients.xls\")"
      ],
      "execution_count": null,
      "outputs": []
    },
    {
      "cell_type": "markdown",
      "metadata": {
        "id": "FhimTdRKODy6"
      },
      "source": [
        "Starting with undarstanding the dataset \n",
        "\n"
      ]
    },
    {
      "cell_type": "code",
      "metadata": {
        "colab": {
          "base_uri": "https://localhost:8080/",
          "height": 235
        },
        "id": "SgBMSumxLvX2",
        "outputId": "d46b06ed-39a1-4c74-a6a6-61c63a130444"
      },
      "source": [
        "df.head()"
      ],
      "execution_count": null,
      "outputs": [
        {
          "output_type": "execute_result",
          "data": {
            "text/html": [
              "<div>\n",
              "<style scoped>\n",
              "    .dataframe tbody tr th:only-of-type {\n",
              "        vertical-align: middle;\n",
              "    }\n",
              "\n",
              "    .dataframe tbody tr th {\n",
              "        vertical-align: top;\n",
              "    }\n",
              "\n",
              "    .dataframe thead th {\n",
              "        text-align: right;\n",
              "    }\n",
              "</style>\n",
              "<table border=\"1\" class=\"dataframe\">\n",
              "  <thead>\n",
              "    <tr style=\"text-align: right;\">\n",
              "      <th></th>\n",
              "      <th>Unnamed: 0</th>\n",
              "      <th>X1</th>\n",
              "      <th>X2</th>\n",
              "      <th>X3</th>\n",
              "      <th>...</th>\n",
              "      <th>X21</th>\n",
              "      <th>X22</th>\n",
              "      <th>X23</th>\n",
              "      <th>Y</th>\n",
              "    </tr>\n",
              "  </thead>\n",
              "  <tbody>\n",
              "    <tr>\n",
              "      <th>0</th>\n",
              "      <td>ID</td>\n",
              "      <td>LIMIT_BAL</td>\n",
              "      <td>SEX</td>\n",
              "      <td>EDUCATION</td>\n",
              "      <td>...</td>\n",
              "      <td>PAY_AMT4</td>\n",
              "      <td>PAY_AMT5</td>\n",
              "      <td>PAY_AMT6</td>\n",
              "      <td>default payment next month</td>\n",
              "    </tr>\n",
              "    <tr>\n",
              "      <th>1</th>\n",
              "      <td>1</td>\n",
              "      <td>20000</td>\n",
              "      <td>2</td>\n",
              "      <td>2</td>\n",
              "      <td>...</td>\n",
              "      <td>0</td>\n",
              "      <td>0</td>\n",
              "      <td>0</td>\n",
              "      <td>1</td>\n",
              "    </tr>\n",
              "    <tr>\n",
              "      <th>2</th>\n",
              "      <td>2</td>\n",
              "      <td>120000</td>\n",
              "      <td>2</td>\n",
              "      <td>2</td>\n",
              "      <td>...</td>\n",
              "      <td>1000</td>\n",
              "      <td>0</td>\n",
              "      <td>2000</td>\n",
              "      <td>1</td>\n",
              "    </tr>\n",
              "    <tr>\n",
              "      <th>3</th>\n",
              "      <td>3</td>\n",
              "      <td>90000</td>\n",
              "      <td>2</td>\n",
              "      <td>2</td>\n",
              "      <td>...</td>\n",
              "      <td>1000</td>\n",
              "      <td>1000</td>\n",
              "      <td>5000</td>\n",
              "      <td>0</td>\n",
              "    </tr>\n",
              "    <tr>\n",
              "      <th>4</th>\n",
              "      <td>4</td>\n",
              "      <td>50000</td>\n",
              "      <td>2</td>\n",
              "      <td>2</td>\n",
              "      <td>...</td>\n",
              "      <td>1100</td>\n",
              "      <td>1069</td>\n",
              "      <td>1000</td>\n",
              "      <td>0</td>\n",
              "    </tr>\n",
              "  </tbody>\n",
              "</table>\n",
              "<p>5 rows × 25 columns</p>\n",
              "</div>"
            ],
            "text/plain": [
              "  Unnamed: 0         X1   X2         X3  ...       X21       X22       X23  \\\n",
              "0         ID  LIMIT_BAL  SEX  EDUCATION  ...  PAY_AMT4  PAY_AMT5  PAY_AMT6   \n",
              "1          1      20000    2          2  ...         0         0         0   \n",
              "2          2     120000    2          2  ...      1000         0      2000   \n",
              "3          3      90000    2          2  ...      1000      1000      5000   \n",
              "4          4      50000    2          2  ...      1100      1069      1000   \n",
              "\n",
              "                            Y  \n",
              "0  default payment next month  \n",
              "1                           1  \n",
              "2                           1  \n",
              "3                           0  \n",
              "4                           0  \n",
              "\n",
              "[5 rows x 25 columns]"
            ]
          },
          "metadata": {},
          "execution_count": 89
        }
      ]
    },
    {
      "cell_type": "code",
      "metadata": {
        "id": "0lRpY6l80Cm3"
      },
      "source": [
        "df.columns = df.iloc[0]\n",
        "df = df.reindex(df.index.drop(0)).reset_index(drop=True)\n",
        "df.columns.name = None"
      ],
      "execution_count": null,
      "outputs": []
    },
    {
      "cell_type": "code",
      "metadata": {
        "colab": {
          "base_uri": "https://localhost:8080/"
        },
        "id": "BV1yInnlOAGB",
        "outputId": "40b712aa-c6a6-4d5e-acfd-c4c99fb3ec27"
      },
      "source": [
        "df.info()"
      ],
      "execution_count": null,
      "outputs": [
        {
          "output_type": "stream",
          "name": "stdout",
          "text": [
            "<class 'pandas.core.frame.DataFrame'>\n",
            "RangeIndex: 30000 entries, 0 to 29999\n",
            "Data columns (total 25 columns):\n",
            " #   Column                      Non-Null Count  Dtype \n",
            "---  ------                      --------------  ----- \n",
            " 0   ID                          30000 non-null  object\n",
            " 1   LIMIT_BAL                   30000 non-null  object\n",
            " 2   SEX                         30000 non-null  object\n",
            " 3   EDUCATION                   30000 non-null  object\n",
            " 4   MARRIAGE                    30000 non-null  object\n",
            " 5   AGE                         30000 non-null  object\n",
            " 6   PAY_0                       30000 non-null  object\n",
            " 7   PAY_2                       30000 non-null  object\n",
            " 8   PAY_3                       30000 non-null  object\n",
            " 9   PAY_4                       30000 non-null  object\n",
            " 10  PAY_5                       30000 non-null  object\n",
            " 11  PAY_6                       30000 non-null  object\n",
            " 12  BILL_AMT1                   30000 non-null  object\n",
            " 13  BILL_AMT2                   30000 non-null  object\n",
            " 14  BILL_AMT3                   30000 non-null  object\n",
            " 15  BILL_AMT4                   30000 non-null  object\n",
            " 16  BILL_AMT5                   30000 non-null  object\n",
            " 17  BILL_AMT6                   30000 non-null  object\n",
            " 18  PAY_AMT1                    30000 non-null  object\n",
            " 19  PAY_AMT2                    30000 non-null  object\n",
            " 20  PAY_AMT3                    30000 non-null  object\n",
            " 21  PAY_AMT4                    30000 non-null  object\n",
            " 22  PAY_AMT5                    30000 non-null  object\n",
            " 23  PAY_AMT6                    30000 non-null  object\n",
            " 24  default payment next month  30000 non-null  object\n",
            "dtypes: object(25)\n",
            "memory usage: 5.7+ MB\n"
          ]
        }
      ]
    },
    {
      "cell_type": "markdown",
      "metadata": {
        "id": "PuCx_UfjsqPX"
      },
      "source": [
        "There are no null values"
      ]
    },
    {
      "cell_type": "code",
      "metadata": {
        "colab": {
          "base_uri": "https://localhost:8080/",
          "height": 204
        },
        "id": "cQKiKg1rOnFr",
        "outputId": "58b4d3d1-af99-4dbd-a04d-6c9cef0b5e5c"
      },
      "source": [
        "df.describe()"
      ],
      "execution_count": null,
      "outputs": [
        {
          "output_type": "execute_result",
          "data": {
            "text/html": [
              "<div>\n",
              "<style scoped>\n",
              "    .dataframe tbody tr th:only-of-type {\n",
              "        vertical-align: middle;\n",
              "    }\n",
              "\n",
              "    .dataframe tbody tr th {\n",
              "        vertical-align: top;\n",
              "    }\n",
              "\n",
              "    .dataframe thead th {\n",
              "        text-align: right;\n",
              "    }\n",
              "</style>\n",
              "<table border=\"1\" class=\"dataframe\">\n",
              "  <thead>\n",
              "    <tr style=\"text-align: right;\">\n",
              "      <th></th>\n",
              "      <th>ID</th>\n",
              "      <th>LIMIT_BAL</th>\n",
              "      <th>SEX</th>\n",
              "      <th>EDUCATION</th>\n",
              "      <th>...</th>\n",
              "      <th>PAY_AMT4</th>\n",
              "      <th>PAY_AMT5</th>\n",
              "      <th>PAY_AMT6</th>\n",
              "      <th>default payment next month</th>\n",
              "    </tr>\n",
              "  </thead>\n",
              "  <tbody>\n",
              "    <tr>\n",
              "      <th>count</th>\n",
              "      <td>30000</td>\n",
              "      <td>30000</td>\n",
              "      <td>30000</td>\n",
              "      <td>30000</td>\n",
              "      <td>...</td>\n",
              "      <td>30000</td>\n",
              "      <td>30000</td>\n",
              "      <td>30000</td>\n",
              "      <td>30000</td>\n",
              "    </tr>\n",
              "    <tr>\n",
              "      <th>unique</th>\n",
              "      <td>30000</td>\n",
              "      <td>81</td>\n",
              "      <td>2</td>\n",
              "      <td>7</td>\n",
              "      <td>...</td>\n",
              "      <td>6937</td>\n",
              "      <td>6897</td>\n",
              "      <td>6939</td>\n",
              "      <td>2</td>\n",
              "    </tr>\n",
              "    <tr>\n",
              "      <th>top</th>\n",
              "      <td>30000</td>\n",
              "      <td>50000</td>\n",
              "      <td>2</td>\n",
              "      <td>2</td>\n",
              "      <td>...</td>\n",
              "      <td>0</td>\n",
              "      <td>0</td>\n",
              "      <td>0</td>\n",
              "      <td>0</td>\n",
              "    </tr>\n",
              "    <tr>\n",
              "      <th>freq</th>\n",
              "      <td>1</td>\n",
              "      <td>3365</td>\n",
              "      <td>18112</td>\n",
              "      <td>14030</td>\n",
              "      <td>...</td>\n",
              "      <td>6408</td>\n",
              "      <td>6703</td>\n",
              "      <td>7173</td>\n",
              "      <td>23364</td>\n",
              "    </tr>\n",
              "  </tbody>\n",
              "</table>\n",
              "<p>4 rows × 25 columns</p>\n",
              "</div>"
            ],
            "text/plain": [
              "           ID  LIMIT_BAL    SEX  EDUCATION  ...  PAY_AMT4  PAY_AMT5  PAY_AMT6  \\\n",
              "count   30000      30000  30000      30000  ...     30000     30000     30000   \n",
              "unique  30000         81      2          7  ...      6937      6897      6939   \n",
              "top     30000      50000      2          2  ...         0         0         0   \n",
              "freq        1       3365  18112      14030  ...      6408      6703      7173   \n",
              "\n",
              "        default payment next month  \n",
              "count                        30000  \n",
              "unique                           2  \n",
              "top                              0  \n",
              "freq                         23364  \n",
              "\n",
              "[4 rows x 25 columns]"
            ]
          },
          "metadata": {},
          "execution_count": 92
        }
      ]
    },
    {
      "cell_type": "code",
      "metadata": {
        "colab": {
          "base_uri": "https://localhost:8080/",
          "height": 330
        },
        "id": "U2gJK6lGiD_3",
        "outputId": "ea893e47-6891-4d98-f872-b73a5e2be1c5"
      },
      "source": [
        "pd.DataFrame(df.astype(int).describe())"
      ],
      "execution_count": null,
      "outputs": [
        {
          "output_type": "execute_result",
          "data": {
            "text/html": [
              "<div>\n",
              "<style scoped>\n",
              "    .dataframe tbody tr th:only-of-type {\n",
              "        vertical-align: middle;\n",
              "    }\n",
              "\n",
              "    .dataframe tbody tr th {\n",
              "        vertical-align: top;\n",
              "    }\n",
              "\n",
              "    .dataframe thead th {\n",
              "        text-align: right;\n",
              "    }\n",
              "</style>\n",
              "<table border=\"1\" class=\"dataframe\">\n",
              "  <thead>\n",
              "    <tr style=\"text-align: right;\">\n",
              "      <th></th>\n",
              "      <th>ID</th>\n",
              "      <th>LIMIT_BAL</th>\n",
              "      <th>SEX</th>\n",
              "      <th>EDUCATION</th>\n",
              "      <th>...</th>\n",
              "      <th>PAY_AMT4</th>\n",
              "      <th>PAY_AMT5</th>\n",
              "      <th>PAY_AMT6</th>\n",
              "      <th>default payment next month</th>\n",
              "    </tr>\n",
              "  </thead>\n",
              "  <tbody>\n",
              "    <tr>\n",
              "      <th>count</th>\n",
              "      <td>30000.000000</td>\n",
              "      <td>30000.000000</td>\n",
              "      <td>30000.000000</td>\n",
              "      <td>30000.000000</td>\n",
              "      <td>...</td>\n",
              "      <td>30000.000000</td>\n",
              "      <td>30000.000000</td>\n",
              "      <td>30000.000000</td>\n",
              "      <td>30000.000000</td>\n",
              "    </tr>\n",
              "    <tr>\n",
              "      <th>mean</th>\n",
              "      <td>15000.500000</td>\n",
              "      <td>167484.322667</td>\n",
              "      <td>1.603733</td>\n",
              "      <td>1.853133</td>\n",
              "      <td>...</td>\n",
              "      <td>4826.076867</td>\n",
              "      <td>4799.387633</td>\n",
              "      <td>5215.502567</td>\n",
              "      <td>0.221200</td>\n",
              "    </tr>\n",
              "    <tr>\n",
              "      <th>std</th>\n",
              "      <td>8660.398374</td>\n",
              "      <td>129747.661567</td>\n",
              "      <td>0.489129</td>\n",
              "      <td>0.790349</td>\n",
              "      <td>...</td>\n",
              "      <td>15666.159744</td>\n",
              "      <td>15278.305679</td>\n",
              "      <td>17777.465775</td>\n",
              "      <td>0.415062</td>\n",
              "    </tr>\n",
              "    <tr>\n",
              "      <th>min</th>\n",
              "      <td>1.000000</td>\n",
              "      <td>10000.000000</td>\n",
              "      <td>1.000000</td>\n",
              "      <td>0.000000</td>\n",
              "      <td>...</td>\n",
              "      <td>0.000000</td>\n",
              "      <td>0.000000</td>\n",
              "      <td>0.000000</td>\n",
              "      <td>0.000000</td>\n",
              "    </tr>\n",
              "    <tr>\n",
              "      <th>25%</th>\n",
              "      <td>7500.750000</td>\n",
              "      <td>50000.000000</td>\n",
              "      <td>1.000000</td>\n",
              "      <td>1.000000</td>\n",
              "      <td>...</td>\n",
              "      <td>296.000000</td>\n",
              "      <td>252.500000</td>\n",
              "      <td>117.750000</td>\n",
              "      <td>0.000000</td>\n",
              "    </tr>\n",
              "    <tr>\n",
              "      <th>50%</th>\n",
              "      <td>15000.500000</td>\n",
              "      <td>140000.000000</td>\n",
              "      <td>2.000000</td>\n",
              "      <td>2.000000</td>\n",
              "      <td>...</td>\n",
              "      <td>1500.000000</td>\n",
              "      <td>1500.000000</td>\n",
              "      <td>1500.000000</td>\n",
              "      <td>0.000000</td>\n",
              "    </tr>\n",
              "    <tr>\n",
              "      <th>75%</th>\n",
              "      <td>22500.250000</td>\n",
              "      <td>240000.000000</td>\n",
              "      <td>2.000000</td>\n",
              "      <td>2.000000</td>\n",
              "      <td>...</td>\n",
              "      <td>4013.250000</td>\n",
              "      <td>4031.500000</td>\n",
              "      <td>4000.000000</td>\n",
              "      <td>0.000000</td>\n",
              "    </tr>\n",
              "    <tr>\n",
              "      <th>max</th>\n",
              "      <td>30000.000000</td>\n",
              "      <td>1000000.000000</td>\n",
              "      <td>2.000000</td>\n",
              "      <td>6.000000</td>\n",
              "      <td>...</td>\n",
              "      <td>621000.000000</td>\n",
              "      <td>426529.000000</td>\n",
              "      <td>528666.000000</td>\n",
              "      <td>1.000000</td>\n",
              "    </tr>\n",
              "  </tbody>\n",
              "</table>\n",
              "<p>8 rows × 25 columns</p>\n",
              "</div>"
            ],
            "text/plain": [
              "                 ID       LIMIT_BAL           SEX     EDUCATION  ...  \\\n",
              "count  30000.000000    30000.000000  30000.000000  30000.000000  ...   \n",
              "mean   15000.500000   167484.322667      1.603733      1.853133  ...   \n",
              "std     8660.398374   129747.661567      0.489129      0.790349  ...   \n",
              "min        1.000000    10000.000000      1.000000      0.000000  ...   \n",
              "25%     7500.750000    50000.000000      1.000000      1.000000  ...   \n",
              "50%    15000.500000   140000.000000      2.000000      2.000000  ...   \n",
              "75%    22500.250000   240000.000000      2.000000      2.000000  ...   \n",
              "max    30000.000000  1000000.000000      2.000000      6.000000  ...   \n",
              "\n",
              "            PAY_AMT4       PAY_AMT5       PAY_AMT6  default payment next month  \n",
              "count   30000.000000   30000.000000   30000.000000                30000.000000  \n",
              "mean     4826.076867    4799.387633    5215.502567                    0.221200  \n",
              "std     15666.159744   15278.305679   17777.465775                    0.415062  \n",
              "min         0.000000       0.000000       0.000000                    0.000000  \n",
              "25%       296.000000     252.500000     117.750000                    0.000000  \n",
              "50%      1500.000000    1500.000000    1500.000000                    0.000000  \n",
              "75%      4013.250000    4031.500000    4000.000000                    0.000000  \n",
              "max    621000.000000  426529.000000  528666.000000                    1.000000  \n",
              "\n",
              "[8 rows x 25 columns]"
            ]
          },
          "metadata": {},
          "execution_count": 93
        }
      ]
    },
    {
      "cell_type": "code",
      "metadata": {
        "colab": {
          "base_uri": "https://localhost:8080/",
          "height": 235
        },
        "id": "tYbHR7bzRz8G",
        "outputId": "4dffba79-f458-40b3-aa9a-aa5aa8960b99"
      },
      "source": [
        "df.head()"
      ],
      "execution_count": null,
      "outputs": [
        {
          "output_type": "execute_result",
          "data": {
            "text/html": [
              "<div>\n",
              "<style scoped>\n",
              "    .dataframe tbody tr th:only-of-type {\n",
              "        vertical-align: middle;\n",
              "    }\n",
              "\n",
              "    .dataframe tbody tr th {\n",
              "        vertical-align: top;\n",
              "    }\n",
              "\n",
              "    .dataframe thead th {\n",
              "        text-align: right;\n",
              "    }\n",
              "</style>\n",
              "<table border=\"1\" class=\"dataframe\">\n",
              "  <thead>\n",
              "    <tr style=\"text-align: right;\">\n",
              "      <th></th>\n",
              "      <th>ID</th>\n",
              "      <th>LIMIT_BAL</th>\n",
              "      <th>SEX</th>\n",
              "      <th>EDUCATION</th>\n",
              "      <th>...</th>\n",
              "      <th>PAY_AMT4</th>\n",
              "      <th>PAY_AMT5</th>\n",
              "      <th>PAY_AMT6</th>\n",
              "      <th>default payment next month</th>\n",
              "    </tr>\n",
              "  </thead>\n",
              "  <tbody>\n",
              "    <tr>\n",
              "      <th>0</th>\n",
              "      <td>1</td>\n",
              "      <td>20000</td>\n",
              "      <td>2</td>\n",
              "      <td>2</td>\n",
              "      <td>...</td>\n",
              "      <td>0</td>\n",
              "      <td>0</td>\n",
              "      <td>0</td>\n",
              "      <td>1</td>\n",
              "    </tr>\n",
              "    <tr>\n",
              "      <th>1</th>\n",
              "      <td>2</td>\n",
              "      <td>120000</td>\n",
              "      <td>2</td>\n",
              "      <td>2</td>\n",
              "      <td>...</td>\n",
              "      <td>1000</td>\n",
              "      <td>0</td>\n",
              "      <td>2000</td>\n",
              "      <td>1</td>\n",
              "    </tr>\n",
              "    <tr>\n",
              "      <th>2</th>\n",
              "      <td>3</td>\n",
              "      <td>90000</td>\n",
              "      <td>2</td>\n",
              "      <td>2</td>\n",
              "      <td>...</td>\n",
              "      <td>1000</td>\n",
              "      <td>1000</td>\n",
              "      <td>5000</td>\n",
              "      <td>0</td>\n",
              "    </tr>\n",
              "    <tr>\n",
              "      <th>3</th>\n",
              "      <td>4</td>\n",
              "      <td>50000</td>\n",
              "      <td>2</td>\n",
              "      <td>2</td>\n",
              "      <td>...</td>\n",
              "      <td>1100</td>\n",
              "      <td>1069</td>\n",
              "      <td>1000</td>\n",
              "      <td>0</td>\n",
              "    </tr>\n",
              "    <tr>\n",
              "      <th>4</th>\n",
              "      <td>5</td>\n",
              "      <td>50000</td>\n",
              "      <td>1</td>\n",
              "      <td>2</td>\n",
              "      <td>...</td>\n",
              "      <td>9000</td>\n",
              "      <td>689</td>\n",
              "      <td>679</td>\n",
              "      <td>0</td>\n",
              "    </tr>\n",
              "  </tbody>\n",
              "</table>\n",
              "<p>5 rows × 25 columns</p>\n",
              "</div>"
            ],
            "text/plain": [
              "  ID LIMIT_BAL SEX EDUCATION  ... PAY_AMT4 PAY_AMT5 PAY_AMT6  \\\n",
              "0  1     20000   2         2  ...        0        0        0   \n",
              "1  2    120000   2         2  ...     1000        0     2000   \n",
              "2  3     90000   2         2  ...     1000     1000     5000   \n",
              "3  4     50000   2         2  ...     1100     1069     1000   \n",
              "4  5     50000   1         2  ...     9000      689      679   \n",
              "\n",
              "  default payment next month  \n",
              "0                          1  \n",
              "1                          1  \n",
              "2                          0  \n",
              "3                          0  \n",
              "4                          0  \n",
              "\n",
              "[5 rows x 25 columns]"
            ]
          },
          "metadata": {},
          "execution_count": 94
        }
      ]
    },
    {
      "cell_type": "markdown",
      "metadata": {
        "id": "jA_zmZr_swwa"
      },
      "source": [
        "We can observe the values of different columns are of different range , so scaling is required"
      ]
    },
    {
      "cell_type": "code",
      "metadata": {
        "colab": {
          "base_uri": "https://localhost:8080/"
        },
        "id": "JBFdcqkXTujj",
        "outputId": "b40edad1-fe42-4aaf-fae8-6bf59f88fed7"
      },
      "source": [
        "df.PAY_0.unique()"
      ],
      "execution_count": null,
      "outputs": [
        {
          "output_type": "execute_result",
          "data": {
            "text/plain": [
              "array([2, -1, 0, -2, 1, 3, 4, 8, 7, 5, 6], dtype=object)"
            ]
          },
          "metadata": {},
          "execution_count": 95
        }
      ]
    },
    {
      "cell_type": "code",
      "metadata": {
        "colab": {
          "base_uri": "https://localhost:8080/",
          "height": 262
        },
        "id": "lpDBwk7hlsa_",
        "outputId": "42f82e08-dd38-4e7d-87ff-2729388a44f6"
      },
      "source": [
        "df['default payment next month'].value_counts().plot(kind='bar');"
      ],
      "execution_count": null,
      "outputs": [
        {
          "output_type": "display_data",
          "data": {
            "image/png": "[encoded data removed]",
            "text/plain": [
              "<Figure size 432x288 with 1 Axes>"
            ]
          },
          "metadata": {
            "needs_background": "light"
          }
        }
      ]
    },
    {
      "cell_type": "code",
      "metadata": {
        "colab": {
          "base_uri": "https://localhost:8080/"
        },
        "id": "kTIecI-GqaJL",
        "outputId": "4f973f1e-fa29-4e1f-e959-34a8adeee7db"
      },
      "source": [
        "df['default payment next month'].value_counts()"
      ],
      "execution_count": null,
      "outputs": [
        {
          "output_type": "execute_result",
          "data": {
            "text/plain": [
              "0    23364\n",
              "1     6636\n",
              "Name: default payment next month, dtype: int64"
            ]
          },
          "metadata": {},
          "execution_count": 97
        }
      ]
    },
    {
      "cell_type": "markdown",
      "metadata": {
        "id": "Ih01_iPQqxbJ"
      },
      "source": [
        "28% of the instances did not default on their payments"
      ]
    },
    {
      "cell_type": "markdown",
      "metadata": {
        "id": "jlsJ-ZYEtNBx"
      },
      "source": [
        "taking 70% for training ans 30% for testing .Also tried taking 80% for training and 20% for testing but the former gave better accuracy ."
      ]
    },
    {
      "cell_type": "code",
      "metadata": {
        "id": "5_W2NI84pzHR"
      },
      "source": [
        "df_copy = df.drop([\"ID\"],1)  # dropping ID as its not an important feature\n",
        "X = df_copy.iloc[:,:-1].values\n",
        "y = df_copy.iloc[:,-1].values\n",
        "y=y.astype('int')\n",
        " \n",
        "from sklearn.model_selection import train_test_split\n",
        "X_train,X_test,y_train,y_test = train_test_split(X,y,test_size = 0.25,random_state = 1)"
      ],
      "execution_count": null,
      "outputs": []
    },
    {
      "cell_type": "markdown",
      "metadata": {
        "id": "wr5793Elsiuw"
      },
      "source": [
        "Scaling the variables "
      ]
    },
    {
      "cell_type": "code",
      "metadata": {
        "id": "dvXJE5D0vjuy"
      },
      "source": [
        "from sklearn.preprocessing import MinMaxScaler\n",
        "\n",
        "# fit scaler on training data\n",
        "norm = MinMaxScaler().fit(X_train)\n",
        "\n",
        "# transform training data\n",
        "X_train_norm = norm.transform(X_train)\n",
        "\n",
        "# transform testing dataabs\n",
        "X_test_norm = norm.transform(X_test)"
      ],
      "execution_count": null,
      "outputs": []
    },
    {
      "cell_type": "markdown",
      "metadata": {
        "id": "cuyLbFpH0ARs"
      },
      "source": [
        "Implementing different models to check which is best"
      ]
    },
    {
      "cell_type": "code",
      "metadata": {
        "id": "SgdQ-ZexcDCr"
      },
      "source": [
        "import pandas as pd \n",
        "import numpy as np\n",
        "from sklearn.metrics import accuracy_score, confusion_matrix\n",
        "from sklearn.ensemble import RandomForestClassifier\n",
        "from sklearn import svm, tree\n",
        "import xgboost\n",
        "from sklearn.model_selection import train_test_split"
      ],
      "execution_count": null,
      "outputs": []
    },
    {
      "cell_type": "code",
      "metadata": {
        "id": "YsxeBZsWcJfT"
      },
      "source": [
        "classifiers=[]\n",
        "model1 = xgboost.XGBClassifier(Probability=True)\n",
        "classifiers.append(model1)\n",
        "model2 = svm.SVC(probability=True)\n",
        "classifiers.append(model2)\n",
        "model3 = tree.DecisionTreeClassifier()\n",
        "classifiers.append(model3)\n",
        "model4 = RandomForestClassifier()\n",
        "classifiers.append(model4)"
      ],
      "execution_count": null,
      "outputs": []
    },
    {
      "cell_type": "code",
      "metadata": {
        "id": "vWglwgZCqrYy"
      },
      "source": [
        "models_list=[\"XGB Classifier\",'SVC','DecisionTreeClassifier','RandomForestClassifier']"
      ],
      "execution_count": null,
      "outputs": []
    },
    {
      "cell_type": "code",
      "metadata": {
        "id": "NJSG00i7iFAL"
      },
      "source": [
        "from sklearn.metrics import  accuracy_score, f1_score, precision_score, recall_score, roc_auc_score"
      ],
      "execution_count": null,
      "outputs": []
    },
    {
      "cell_type": "code",
      "metadata": {
        "colab": {
          "base_uri": "https://localhost:8080/"
        },
        "id": "QiMRxOVNcJSR",
        "outputId": "79f5684f-1b14-482e-fda8-91892cabba47"
      },
      "source": [
        "results=[]\n",
        "for clf in classifiers:\n",
        "    clf.fit(X_train_norm, y_train)\n",
        "    y_pred= clf.predict(X_test_norm)\n",
        "    acc = accuracy_score(y_test, y_pred)\n",
        "    print(\"Accuracy of %s is %s\"%(clf, acc))\n",
        "    cm = confusion_matrix(y_test, y_pred)\n",
        "    print(\"Confusion Matrix of %s is %s\"%(clf, cm))\n",
        "    roc=roc_auc_score(y_test, y_pred)\n",
        "    acc = accuracy_score(y_test, y_pred)\n",
        "    prec = precision_score(y_test, y_pred)\n",
        "    rec = recall_score(y_test, y_pred)\n",
        "    f1 = f1_score(y_test, y_pred)\n",
        "    \n",
        "    results.append([clf, acc,prec,rec, f1,roc])\n",
        "   "
      ],
      "execution_count": null,
      "outputs": [
        {
          "output_type": "stream",
          "name": "stdout",
          "text": [
            "Accuracy of XGBClassifier(Probability=True, base_score=0.5, booster='gbtree',\n",
            "              colsample_bylevel=1, colsample_bynode=1, colsample_bytree=1,\n",
            "              gamma=0, learning_rate=0.1, max_delta_step=0, max_depth=3,\n",
            "              min_child_weight=1, missing=None, n_estimators=100, n_jobs=1,\n",
            "              nthread=None, objective='binary:logistic', random_state=0,\n",
            "              reg_alpha=0, reg_lambda=1, scale_pos_weight=1, seed=None,\n",
            "              silent=None, subsample=1, verbosity=1) is 0.8197333333333333\n",
            "Confusion Matrix of XGBClassifier(Probability=True, base_score=0.5, booster='gbtree',\n",
            "              colsample_bylevel=1, colsample_bynode=1, colsample_bytree=1,\n",
            "              gamma=0, learning_rate=0.1, max_delta_step=0, max_depth=3,\n",
            "              min_child_weight=1, missing=None, n_estimators=100, n_jobs=1,\n",
            "              nthread=None, objective='binary:logistic', random_state=0,\n",
            "              reg_alpha=0, reg_lambda=1, scale_pos_weight=1, seed=None,\n",
            "              silent=None, subsample=1, verbosity=1) is [[5555  277]\n",
            " [1075  593]]\n",
            "Accuracy of SVC(C=1.0, break_ties=False, cache_size=200, class_weight=None, coef0=0.0,\n",
            "    decision_function_shape='ovr', degree=3, gamma='scale', kernel='rbf',\n",
            "    max_iter=-1, probability=True, random_state=None, shrinking=True, tol=0.001,\n",
            "    verbose=False) is 0.8153333333333334\n",
            "Confusion Matrix of SVC(C=1.0, break_ties=False, cache_size=200, class_weight=None, coef0=0.0,\n",
            "    decision_function_shape='ovr', degree=3, gamma='scale', kernel='rbf',\n",
            "    max_iter=-1, probability=True, random_state=None, shrinking=True, tol=0.001,\n",
            "    verbose=False) is [[5593  239]\n",
            " [1146  522]]\n",
            "Accuracy of DecisionTreeClassifier(ccp_alpha=0.0, class_weight=None, criterion='gini',\n",
            "                       max_depth=None, max_features=None, max_leaf_nodes=None,\n",
            "                       min_impurity_decrease=0.0, min_impurity_split=None,\n",
            "                       min_samples_leaf=1, min_samples_split=2,\n",
            "                       min_weight_fraction_leaf=0.0, presort='deprecated',\n",
            "                       random_state=None, splitter='best') is 0.7222666666666666\n",
            "Confusion Matrix of DecisionTreeClassifier(ccp_alpha=0.0, class_weight=None, criterion='gini',\n",
            "                       max_depth=None, max_features=None, max_leaf_nodes=None,\n",
            "                       min_impurity_decrease=0.0, min_impurity_split=None,\n",
            "                       min_samples_leaf=1, min_samples_split=2,\n",
            "                       min_weight_fraction_leaf=0.0, presort='deprecated',\n",
            "                       random_state=None, splitter='best') is [[4743 1089]\n",
            " [ 994  674]]\n",
            "Accuracy of RandomForestClassifier(bootstrap=True, ccp_alpha=0.0, class_weight=None,\n",
            "                       criterion='gini', max_depth=None, max_features='auto',\n",
            "                       max_leaf_nodes=None, max_samples=None,\n",
            "                       min_impurity_decrease=0.0, min_impurity_split=None,\n",
            "                       min_samples_leaf=1, min_samples_split=2,\n",
            "                       min_weight_fraction_leaf=0.0, n_estimators=100,\n",
            "                       n_jobs=None, oob_score=False, random_state=None,\n",
            "                       verbose=0, warm_start=False) is 0.8112\n",
            "Confusion Matrix of RandomForestClassifier(bootstrap=True, ccp_alpha=0.0, class_weight=None,\n",
            "                       criterion='gini', max_depth=None, max_features='auto',\n",
            "                       max_leaf_nodes=None, max_samples=None,\n",
            "                       min_impurity_decrease=0.0, min_impurity_split=None,\n",
            "                       min_samples_leaf=1, min_samples_split=2,\n",
            "                       min_weight_fraction_leaf=0.0, n_estimators=100,\n",
            "                       n_jobs=None, oob_score=False, random_state=None,\n",
            "                       verbose=0, warm_start=False) is [[5498  334]\n",
            " [1082  586]]\n"
          ]
        }
      ]
    },
    {
      "cell_type": "code",
      "metadata": {
        "id": "SOnkAxpAo823"
      },
      "source": [
        "performance_df=pd.DataFrame(results)\n",
        "performance_df.columns = ['Model', 'Accuracy', 'Precision', 'Recall', 'F1 Score','ROC']"
      ],
      "execution_count": null,
      "outputs": []
    },
    {
      "cell_type": "code",
      "metadata": {
        "id": "Z2-twMbmq8aw"
      },
      "source": [
        "performance_df['Model']=models_list"
      ],
      "execution_count": null,
      "outputs": []
    },
    {
      "cell_type": "code",
      "metadata": {
        "colab": {
          "base_uri": "https://localhost:8080/",
          "height": 174
        },
        "id": "l6B524q8pJ92",
        "outputId": "13396d89-6ab2-45ab-e3d6-823f8aeb77bf"
      },
      "source": [
        "performance_df"
      ],
      "execution_count": null,
      "outputs": [
        {
          "output_type": "execute_result",
          "data": {
            "text/html": [
              "<div>\n",
              "<style scoped>\n",
              "    .dataframe tbody tr th:only-of-type {\n",
              "        vertical-align: middle;\n",
              "    }\n",
              "\n",
              "    .dataframe tbody tr th {\n",
              "        vertical-align: top;\n",
              "    }\n",
              "\n",
              "    .dataframe thead th {\n",
              "        text-align: right;\n",
              "    }\n",
              "</style>\n",
              "<table border=\"1\" class=\"dataframe\">\n",
              "  <thead>\n",
              "    <tr style=\"text-align: right;\">\n",
              "      <th></th>\n",
              "      <th>Model</th>\n",
              "      <th>Accuracy</th>\n",
              "      <th>Precision</th>\n",
              "      <th>Recall</th>\n",
              "      <th>F1 Score</th>\n",
              "      <th>ROC</th>\n",
              "    </tr>\n",
              "  </thead>\n",
              "  <tbody>\n",
              "    <tr>\n",
              "      <th>0</th>\n",
              "      <td>XGB Classifier</td>\n",
              "      <td>0.819733</td>\n",
              "      <td>0.681609</td>\n",
              "      <td>0.355516</td>\n",
              "      <td>0.467297</td>\n",
              "      <td>0.654010</td>\n",
              "    </tr>\n",
              "    <tr>\n",
              "      <th>1</th>\n",
              "      <td>SVC</td>\n",
              "      <td>0.815333</td>\n",
              "      <td>0.685940</td>\n",
              "      <td>0.312950</td>\n",
              "      <td>0.429807</td>\n",
              "      <td>0.635984</td>\n",
              "    </tr>\n",
              "    <tr>\n",
              "      <th>2</th>\n",
              "      <td>DecisionTreeClassifier</td>\n",
              "      <td>0.722267</td>\n",
              "      <td>0.382303</td>\n",
              "      <td>0.404077</td>\n",
              "      <td>0.392888</td>\n",
              "      <td>0.608674</td>\n",
              "    </tr>\n",
              "    <tr>\n",
              "      <th>3</th>\n",
              "      <td>RandomForestClassifier</td>\n",
              "      <td>0.811200</td>\n",
              "      <td>0.636957</td>\n",
              "      <td>0.351319</td>\n",
              "      <td>0.452859</td>\n",
              "      <td>0.647024</td>\n",
              "    </tr>\n",
              "  </tbody>\n",
              "</table>\n",
              "</div>"
            ],
            "text/plain": [
              "                    Model  Accuracy  Precision    Recall  F1 Score       ROC\n",
              "0          XGB Classifier  0.819733   0.681609  0.355516  0.467297  0.654010\n",
              "1                     SVC  0.815333   0.685940  0.312950  0.429807  0.635984\n",
              "2  DecisionTreeClassifier  0.722267   0.382303  0.404077  0.392888  0.608674\n",
              "3  RandomForestClassifier  0.811200   0.636957  0.351319  0.452859  0.647024"
            ]
          },
          "metadata": {},
          "execution_count": 107
        }
      ]
    },
    {
      "cell_type": "markdown",
      "metadata": {
        "id": "42jREjAXcumI"
      },
      "source": [
        "XGB,SVC AND Random forest classifiers are performing almost equally well"
      ]
    },
    {
      "cell_type": "markdown",
      "metadata": {
        "id": "-92Wd9i7rHZz"
      },
      "source": [
        "Hence Removing DecisionTreeClassifier"
      ]
    },
    {
      "cell_type": "code",
      "metadata": {
        "id": "V-irGz5adXoM"
      },
      "source": [
        "classifiers.remove(model3)"
      ],
      "execution_count": null,
      "outputs": []
    },
    {
      "cell_type": "code",
      "metadata": {
        "colab": {
          "base_uri": "https://localhost:8080/",
          "height": 35
        },
        "id": "XZvHxGy4tv1V",
        "outputId": "26a0ef79-40e5-42ac-fb42-853b65126d3a"
      },
      "source": [
        "models_list.pop(2)"
      ],
      "execution_count": null,
      "outputs": [
        {
          "output_type": "execute_result",
          "data": {
            "application/vnd.google.colaboratory.intrinsic+json": {
              "type": "string"
            },
            "text/plain": [
              "'DecisionTreeClassifier'"
            ]
          },
          "metadata": {},
          "execution_count": 109
        }
      ]
    },
    {
      "cell_type": "markdown",
      "metadata": {
        "id": "Bb1oIUZFswwz"
      },
      "source": [
        "KS-Static metric function"
      ]
    },
    {
      "cell_type": "code",
      "metadata": {
        "colab": {
          "base_uri": "https://localhost:8080/"
        },
        "id": "1Ie9owlINGwy",
        "outputId": "e9152a9a-dd81-48c1-a052-25b0e6b0a771"
      },
      "source": [
        "pip install colorama"
      ],
      "execution_count": null,
      "outputs": [
        {
          "output_type": "stream",
          "name": "stdout",
          "text": [
            "Requirement already satisfied: colorama in /usr/local/lib/python3.7/dist-packages (0.4.4)\n"
          ]
        }
      ]
    },
    {
      "cell_type": "code",
      "metadata": {
        "id": "EJk7DbDUrxCG"
      },
      "source": [
        "def ks(data=None,target=None, prob=None):\n",
        "    data['target0'] = 1 - data[target]\n",
        "    data['bucket'] = pd.qcut(data[prob], 10)\n",
        "    grouped = data.groupby('bucket', as_index = False)\n",
        "    kstable = pd.DataFrame()\n",
        "    kstable['min_prob'] = grouped.min()[prob]\n",
        "    kstable['max_prob'] = grouped.max()[prob]\n",
        "    kstable['events']   = grouped.sum()[target]\n",
        "    kstable['nonevents'] = grouped.sum()['target0']\n",
        "    kstable = kstable.sort_values(by=\"min_prob\", ascending=False).reset_index(drop = True)\n",
        "    kstable['event_rate'] = (kstable.events / data[target].sum()).apply('{0:.2%}'.format)\n",
        "    kstable['nonevent_rate'] = (kstable.nonevents / data['target0'].sum()).apply('{0:.2%}'.format)\n",
        "    kstable['cum_eventrate']=(kstable.events / data[target].sum()).cumsum()\n",
        "    kstable['cum_noneventrate']=(kstable.nonevents / data['target0'].sum()).cumsum()\n",
        "    kstable['KS'] = np.round(kstable['cum_eventrate']-kstable['cum_noneventrate'], 3) * 100\n",
        "\n",
        "    #Formating\n",
        "    kstable['cum_eventrate']= kstable['cum_eventrate'].apply('{0:.2%}'.format)\n",
        "    kstable['cum_noneventrate']= kstable['cum_noneventrate'].apply('{0:.2%}'.format)\n",
        "    kstable.index = range(1,11)\n",
        "    kstable.index.rename('Decile', inplace=True)\n",
        "    pd.set_option('display.max_columns', 9)\n",
        "    print(kstable)\n",
        "    \n",
        "    #Display KS\n",
        "    from colorama import Fore\n",
        "    print(Fore.RED + \"KS is \" + str(max(kstable['KS']))+\"%\"+ \" at decile \" + str((kstable.index[kstable['KS']==max(kstable['KS'])][0])))\n",
        "    return(kstable)"
      ],
      "execution_count": null,
      "outputs": []
    },
    {
      "cell_type": "code",
      "metadata": {
        "id": "R5gEkvr2Y9l9"
      },
      "source": [
        "def kstable(prob,test):\n",
        "  data_ks=pd.DataFrame(prob)\n",
        "  data_ks['dep']=y_test\n",
        "  data_ks.columns=['one','prob','dep']\n",
        "  del data_ks['one']\n",
        "  return ks(data=data_ks,target=\"dep\", prob=\"prob\")"
      ],
      "execution_count": null,
      "outputs": []
    },
    {
      "cell_type": "markdown",
      "metadata": {
        "id": "oWyBYzi8Uffg"
      },
      "source": [
        "KS-Static metric for diff models"
      ]
    },
    {
      "cell_type": "code",
      "metadata": {
        "id": "hUhlac3UtiX7"
      },
      "source": [
        "i=0"
      ],
      "execution_count": null,
      "outputs": []
    },
    {
      "cell_type": "code",
      "metadata": {
        "colab": {
          "base_uri": "https://localhost:8080/"
        },
        "id": "zZ6AyHPqdsBi",
        "outputId": "e8e4526b-54db-455f-e9e8-dac043a50c57"
      },
      "source": [
        "for clf in classifiers:\n",
        "  prob=clf.predict_proba(X_test_norm)\n",
        "  print(\"\\n\")\n",
        "  print(\"KS tabel of \",models_list[i])\n",
        "  i=i+1\n",
        "  kstable(prob,y_test)"
      ],
      "execution_count": null,
      "outputs": [
        {
          "output_type": "stream",
          "name": "stdout",
          "text": [
            "\n",
            "\n",
            "KS tabel of  XGB Classifier\n",
            "        min_prob  max_prob  events  nonevents event_rate nonevent_rate  \\\n",
            "Decile                                                                   \n",
            "1       0.576222  0.863270     529        221     31.71%         3.79%   \n",
            "2       0.304696  0.575971     313        437     18.76%         7.49%   \n",
            "3       0.218975  0.304683     216        534     12.95%         9.16%   \n",
            "4       0.173599  0.218791     149        601      8.93%        10.31%   \n",
            "5       0.146599  0.173520     126        624      7.55%        10.70%   \n",
            "6       0.124751  0.146566      95        655      5.70%        11.23%   \n",
            "7       0.106013  0.124744      76        674      4.56%        11.56%   \n",
            "8       0.089557  0.105976      75        675      4.50%        11.57%   \n",
            "9       0.069801  0.089554      53        697      3.18%        11.95%   \n",
            "10      0.022823  0.069717      36        714      2.16%        12.24%   \n",
            "\n",
            "       cum_eventrate cum_noneventrate    KS  \n",
            "Decile                                       \n",
            "1             31.71%            3.79%  27.9  \n",
            "2             50.48%           11.28%  39.2  \n",
            "3             63.43%           20.44%  43.0  \n",
            "4             72.36%           30.74%  41.6  \n",
            "5             79.92%           41.44%  38.5  \n",
            "6             85.61%           52.67%  32.9  \n",
            "7             90.17%           64.23%  25.9  \n",
            "8             94.66%           75.81%  18.9  \n",
            "9             97.84%           87.76%  10.1  \n",
            "10           100.00%          100.00%  -0.0  \n",
            "\u001b[31mKS is 43.0% at decile 3\n",
            "\n",
            "\n",
            "KS tabel of  SVC\n",
            "        min_prob  max_prob  events  nonevents event_rate nonevent_rate  \\\n",
            "Decile                                                                   \n",
            "1       0.466407  0.992896     520        230     31.18%         3.94%   \n",
            "2       0.169295  0.461887     268        482     16.07%         8.26%   \n",
            "3       0.159534  0.169248     170        580     10.19%         9.95%   \n",
            "4       0.159249  0.159530     129        621      7.73%        10.65%   \n",
            "5       0.158982  0.159249      89        661      5.34%        11.33%   \n",
            "6       0.158402  0.158981      87        663      5.22%        11.37%   \n",
            "7       0.156730  0.158399      93        657      5.58%        11.27%   \n",
            "8       0.150583  0.156722      95        655      5.70%        11.23%   \n",
            "9       0.141117  0.150577     103        647      6.18%        11.09%   \n",
            "10      0.053896  0.141115     114        636      6.83%        10.91%   \n",
            "\n",
            "       cum_eventrate cum_noneventrate    KS  \n",
            "Decile                                       \n",
            "1             31.18%            3.94%  27.2  \n",
            "2             47.24%           12.21%  35.0  \n",
            "3             57.43%           22.15%  35.3  \n",
            "4             65.17%           32.80%  32.4  \n",
            "5             70.50%           44.14%  26.4  \n",
            "6             75.72%           55.50%  20.2  \n",
            "7             81.29%           66.77%  14.5  \n",
            "8             86.99%           78.00%   9.0  \n",
            "9             93.17%           89.09%   4.1  \n",
            "10           100.00%          100.00%  -0.0  \n",
            "\u001b[31mKS is 35.3% at decile 3\n",
            "\n",
            "\n",
            "KS tabel of  RandomForestClassifier\n",
            "        min_prob  max_prob  events  nonevents event_rate nonevent_rate  \\\n",
            "Decile                                                                   \n",
            "1       0.570000  1.000000     503        235     30.16%         4.03%   \n",
            "2       0.356667  0.560000     325        420     19.48%         7.20%   \n",
            "3       0.253333  0.350000     190        565     11.39%         9.69%   \n",
            "4       0.202500  0.250000     139        595      8.33%        10.20%   \n",
            "5       0.164167  0.200000     138        640      8.27%        10.97%   \n",
            "6       0.138333  0.162667     109        628      6.53%        10.77%   \n",
            "7       0.110357  0.130000      67        467      4.02%         8.01%   \n",
            "8       0.090000  0.110000      86        724      5.16%        12.41%   \n",
            "9       0.047500  0.080000      78        830      4.68%        14.23%   \n",
            "10      0.000000  0.040000      33        728      1.98%        12.48%   \n",
            "\n",
            "       cum_eventrate cum_noneventrate    KS  \n",
            "Decile                                       \n",
            "1             30.16%            4.03%  26.1  \n",
            "2             49.64%           11.23%  38.4  \n",
            "3             61.03%           20.92%  40.1  \n",
            "4             69.36%           31.12%  38.2  \n",
            "5             77.64%           42.10%  35.5  \n",
            "6             84.17%           52.86%  31.3  \n",
            "7             88.19%           60.87%  27.3  \n",
            "8             93.35%           73.29%  20.1  \n",
            "9             98.02%           87.52%  10.5  \n",
            "10           100.00%          100.00%   0.0  \n",
            "\u001b[31mKS is 40.1% at decile 3\n"
          ]
        }
      ]
    },
    {
      "cell_type": "markdown",
      "metadata": {
        "id": "-7ziANqlmB7H"
      },
      "source": [
        "KS score of Model 1 i.e of XG boost classifier is 43% and is higher"
      ]
    },
    {
      "cell_type": "markdown",
      "metadata": {
        "id": "h_22Tx2Fmsh-"
      },
      "source": [
        "If KS is in top 3 decile and score above 40, it is considered a good predictive model. Hence XGboost is a good predictive model"
      ]
    },
    {
      "cell_type": "markdown",
      "metadata": {
        "id": "4Iq-K3HlhU_1"
      },
      "source": [
        "Implementing XGB classifier by tuning hyperparameters"
      ]
    },
    {
      "cell_type": "code",
      "metadata": {
        "id": "2ZrzUgSQjRR1"
      },
      "source": [
        "params={\n",
        " \"learning_rate\"    : [0.05, 0.10, 0.15, 0.20, 0.25, 0.30 ] ,\n",
        " \"max_depth\"        : [ 3, 4, 5, 6, 8, 10, 12, 15],\n",
        " \"min_child_weight\" : [ 1, 3, 5, 7 ],\n",
        " \"gamma\"            : [ 0.0, 0.1, 0.2 , 0.3, 0.4 ],\n",
        " \"colsample_bytree\" : [ 0.3, 0.4, 0.5 , 0.7 ]\n",
        "    \n",
        "}"
      ],
      "execution_count": null,
      "outputs": []
    },
    {
      "cell_type": "code",
      "metadata": {
        "id": "wI5DMl37P25m"
      },
      "source": [
        "from sklearn.model_selection import RandomizedSearchCV, GridSearchCV\n",
        "import xgboost"
      ],
      "execution_count": null,
      "outputs": []
    },
    {
      "cell_type": "code",
      "metadata": {
        "id": "y4CyZpu-P404"
      },
      "source": [
        "\n",
        "def timer(start_time=None):\n",
        "    if not start_time:\n",
        "        start_time = datetime.now()\n",
        "        return start_time\n",
        "    elif start_time:\n",
        "        thour, temp_sec = divmod((datetime.now() - start_time).total_seconds(), 3600)\n",
        "        tmin, tsec = divmod(temp_sec, 60)\n",
        "        print('\\n Time taken: %i hours %i minutes and %s seconds.' % (thour, tmin, round(tsec, 2)))"
      ],
      "execution_count": null,
      "outputs": []
    },
    {
      "cell_type": "code",
      "metadata": {
        "id": "m6XdnvEZP6qW"
      },
      "source": [
        "\n",
        "classifier=xgboost.XGBClassifier()"
      ],
      "execution_count": null,
      "outputs": []
    },
    {
      "cell_type": "code",
      "metadata": {
        "id": "kuzLTOjLP88_"
      },
      "source": [
        "\n",
        "random_search=RandomizedSearchCV(classifier,param_distributions=params,n_iter=5,scoring='roc_auc',n_jobs=-1,cv=5,verbose=3)"
      ],
      "execution_count": null,
      "outputs": []
    },
    {
      "cell_type": "code",
      "metadata": {
        "colab": {
          "base_uri": "https://localhost:8080/"
        },
        "id": "O_0ZM4mZQAG-",
        "outputId": "efe46a75-0a0d-4daa-ea94-fbc12be6a8a0"
      },
      "source": [
        "from datetime import datetime\n",
        "\n",
        "start_time = timer(None) # timing starts from this point for \"start_time\" variable\n",
        "random_search.fit(X_train_norm,y_train)\n",
        "timer(start_time) # timing ends here for \"start_time\" variable"
      ],
      "execution_count": null,
      "outputs": [
        {
          "output_type": "stream",
          "name": "stdout",
          "text": [
            "Fitting 5 folds for each of 5 candidates, totalling 25 fits\n"
          ]
        },
        {
          "output_type": "stream",
          "name": "stderr",
          "text": [
            "[Parallel(n_jobs=-1)]: Using backend LokyBackend with 2 concurrent workers.\n",
            "[Parallel(n_jobs=-1)]: Done  25 out of  25 | elapsed:   58.8s finished\n"
          ]
        },
        {
          "output_type": "stream",
          "name": "stdout",
          "text": [
            "\n",
            " Time taken: 0 hours 1 minutes and 0.26 seconds.\n"
          ]
        }
      ]
    },
    {
      "cell_type": "code",
      "metadata": {
        "colab": {
          "base_uri": "https://localhost:8080/"
        },
        "id": "IGuIh1s7QCc8",
        "outputId": "9724a757-e9fb-4f27-b361-1537c6e246b7"
      },
      "source": [
        "random_search.best_estimator_"
      ],
      "execution_count": null,
      "outputs": [
        {
          "output_type": "execute_result",
          "data": {
            "text/plain": [
              "XGBClassifier(base_score=0.5, booster='gbtree', colsample_bylevel=1,\n",
              "              colsample_bynode=1, colsample_bytree=0.4, gamma=0.3,\n",
              "              learning_rate=0.25, max_delta_step=0, max_depth=3,\n",
              "              min_child_weight=7, missing=None, n_estimators=100, n_jobs=1,\n",
              "              nthread=None, objective='binary:logistic', random_state=0,\n",
              "              reg_alpha=0, reg_lambda=1, scale_pos_weight=1, seed=None,\n",
              "              silent=None, subsample=1, verbosity=1)"
            ]
          },
          "metadata": {},
          "execution_count": 121
        }
      ]
    },
    {
      "cell_type": "code",
      "metadata": {
        "colab": {
          "base_uri": "https://localhost:8080/"
        },
        "id": "B_Sc2hrNQQvT",
        "outputId": "b0a872d5-6ed7-4e19-ae8a-a728b836f66c"
      },
      "source": [
        "random_search.best_params_"
      ],
      "execution_count": null,
      "outputs": [
        {
          "output_type": "execute_result",
          "data": {
            "text/plain": [
              "{'colsample_bytree': 0.4,\n",
              " 'gamma': 0.3,\n",
              " 'learning_rate': 0.25,\n",
              " 'max_depth': 3,\n",
              " 'min_child_weight': 7}"
            ]
          },
          "metadata": {},
          "execution_count": 122
        }
      ]
    },
    {
      "cell_type": "code",
      "metadata": {
        "id": "OWS-rB0mQUMZ"
      },
      "source": [
        "classifier=xgboost.XGBClassifier(base_score=0.5, booster='gbtree', colsample_bylevel=1,\n",
        "              colsample_bynode=1, colsample_bytree=0.4, gamma=0.3,\n",
        "              learning_rate=0.25, max_delta_step=0, max_depth=3,\n",
        "              min_child_weight=7, missing=None, n_estimators=100, n_jobs=1,\n",
        "              nthread=None, objective='binary:logistic', random_state=0,\n",
        "              reg_alpha=0, reg_lambda=1, scale_pos_weight=1, seed=None,\n",
        "              silent=None, subsample=1, verbosity=1)\n"
      ],
      "execution_count": null,
      "outputs": []
    },
    {
      "cell_type": "code",
      "metadata": {
        "id": "bJqcFb_kQcM1"
      },
      "source": [
        "from sklearn.model_selection import cross_val_score\n",
        "score=cross_val_score(classifier,X_train_norm,y_train,cv=10)"
      ],
      "execution_count": null,
      "outputs": []
    },
    {
      "cell_type": "code",
      "metadata": {
        "colab": {
          "base_uri": "https://localhost:8080/"
        },
        "id": "y4e34MsyQeRW",
        "outputId": "4fbd5a0b-e514-40cf-9600-7147c3ee7927"
      },
      "source": [
        "score"
      ],
      "execution_count": null,
      "outputs": [
        {
          "output_type": "execute_result",
          "data": {
            "text/plain": [
              "array([0.81777778, 0.82133333, 0.81511111, 0.81688889, 0.82044444,\n",
              "       0.82177778, 0.81066667, 0.82355556, 0.82711111, 0.83244444])"
            ]
          },
          "metadata": {},
          "execution_count": 135
        }
      ]
    },
    {
      "cell_type": "code",
      "metadata": {
        "colab": {
          "base_uri": "https://localhost:8080/"
        },
        "id": "mv8tLQosQyru",
        "outputId": "0a139768-e3cb-4fba-97c5-f5b28ab1dce1"
      },
      "source": [
        "score.mean()"
      ],
      "execution_count": null,
      "outputs": [
        {
          "output_type": "execute_result",
          "data": {
            "text/plain": [
              "0.8207111111111111"
            ]
          },
          "metadata": {},
          "execution_count": 136
        }
      ]
    },
    {
      "cell_type": "code",
      "metadata": {
        "colab": {
          "base_uri": "https://localhost:8080/"
        },
        "id": "0ZoiW8iWQ3QY",
        "outputId": "e650ca31-e870-48a3-c8c3-052ffcbd5a10"
      },
      "source": [
        "classifier.fit(X_train_norm, y_train)\n",
        "y_pred_xgb= classifier.predict(X_test_norm)\n",
        "\n",
        "cm = confusion_matrix(y_test, y_pred_xgb)\n",
        "print(cm)\n",
        "roc=roc_auc_score(y_test, y_pred_xgb)\n",
        "acc = accuracy_score(y_test, y_pred_xgb)\n",
        "acc"
      ],
      "execution_count": null,
      "outputs": [
        {
          "output_type": "stream",
          "name": "stdout",
          "text": [
            "[[5546  286]\n",
            " [1082  586]]\n"
          ]
        },
        {
          "output_type": "execute_result",
          "data": {
            "text/plain": [
              "0.8176"
            ]
          },
          "metadata": {},
          "execution_count": 137
        }
      ]
    },
    {
      "cell_type": "code",
      "metadata": {
        "colab": {
          "base_uri": "https://localhost:8080/",
          "height": 846
        },
        "id": "Ax-owq9aUdDO",
        "outputId": "79fc5589-7671-4d34-d0a3-c4df9ea75724"
      },
      "source": [
        "prob_xgb=classifier.predict_proba(X_test_norm)\n",
        "\n",
        "kstable(prob_xgb,y_test)"
      ],
      "execution_count": null,
      "outputs": [
        {
          "output_type": "stream",
          "name": "stdout",
          "text": [
            "        min_prob  max_prob  events  nonevents event_rate nonevent_rate  \\\n",
            "Decile                                                                   \n",
            "1       0.573350  0.917407     522        228     31.29%         3.91%   \n",
            "2       0.309973  0.573074     327        423     19.60%         7.25%   \n",
            "3       0.220412  0.309917     210        540     12.59%         9.26%   \n",
            "4       0.174397  0.220349     136        614      8.15%        10.53%   \n",
            "5       0.146473  0.174354     126        624      7.55%        10.70%   \n",
            "6       0.124539  0.146424     100        650      6.00%        11.15%   \n",
            "7       0.102797  0.124499      85        665      5.10%        11.40%   \n",
            "8       0.082626  0.102777      62        688      3.72%        11.80%   \n",
            "9       0.059808  0.082597      59        691      3.54%        11.85%   \n",
            "10      0.008146  0.059686      41        709      2.46%        12.16%   \n",
            "\n",
            "       cum_eventrate cum_noneventrate    KS  \n",
            "Decile                                       \n",
            "1             31.29%            3.91%  27.4  \n",
            "2             50.90%           11.16%  39.7  \n",
            "3             63.49%           20.42%  43.1  \n",
            "4             71.64%           30.95%  40.7  \n",
            "5             79.20%           41.65%  37.5  \n",
            "6             85.19%           52.79%  32.4  \n",
            "7             90.29%           64.20%  26.1  \n",
            "8             94.00%           75.99%  18.0  \n",
            "9             97.54%           87.84%   9.7  \n",
            "10           100.00%          100.00%  -0.0  \n",
            "\u001b[31mKS is 43.1% at decile 3\n"
          ]
        },
        {
          "output_type": "execute_result",
          "data": {
            "text/html": [
              "<div>\n",
              "<style scoped>\n",
              "    .dataframe tbody tr th:only-of-type {\n",
              "        vertical-align: middle;\n",
              "    }\n",
              "\n",
              "    .dataframe tbody tr th {\n",
              "        vertical-align: top;\n",
              "    }\n",
              "\n",
              "    .dataframe thead th {\n",
              "        text-align: right;\n",
              "    }\n",
              "</style>\n",
              "<table border=\"1\" class=\"dataframe\">\n",
              "  <thead>\n",
              "    <tr style=\"text-align: right;\">\n",
              "      <th></th>\n",
              "      <th>min_prob</th>\n",
              "      <th>max_prob</th>\n",
              "      <th>events</th>\n",
              "      <th>nonevents</th>\n",
              "      <th>event_rate</th>\n",
              "      <th>nonevent_rate</th>\n",
              "      <th>cum_eventrate</th>\n",
              "      <th>cum_noneventrate</th>\n",
              "      <th>KS</th>\n",
              "    </tr>\n",
              "    <tr>\n",
              "      <th>Decile</th>\n",
              "      <th></th>\n",
              "      <th></th>\n",
              "      <th></th>\n",
              "      <th></th>\n",
              "      <th></th>\n",
              "      <th></th>\n",
              "      <th></th>\n",
              "      <th></th>\n",
              "      <th></th>\n",
              "    </tr>\n",
              "  </thead>\n",
              "  <tbody>\n",
              "    <tr>\n",
              "      <th>1</th>\n",
              "      <td>0.573350</td>\n",
              "      <td>0.917407</td>\n",
              "      <td>522</td>\n",
              "      <td>228</td>\n",
              "      <td>31.29%</td>\n",
              "      <td>3.91%</td>\n",
              "      <td>31.29%</td>\n",
              "      <td>3.91%</td>\n",
              "      <td>27.4</td>\n",
              "    </tr>\n",
              "    <tr>\n",
              "      <th>2</th>\n",
              "      <td>0.309973</td>\n",
              "      <td>0.573074</td>\n",
              "      <td>327</td>\n",
              "      <td>423</td>\n",
              "      <td>19.60%</td>\n",
              "      <td>7.25%</td>\n",
              "      <td>50.90%</td>\n",
              "      <td>11.16%</td>\n",
              "      <td>39.7</td>\n",
              "    </tr>\n",
              "    <tr>\n",
              "      <th>3</th>\n",
              "      <td>0.220412</td>\n",
              "      <td>0.309917</td>\n",
              "      <td>210</td>\n",
              "      <td>540</td>\n",
              "      <td>12.59%</td>\n",
              "      <td>9.26%</td>\n",
              "      <td>63.49%</td>\n",
              "      <td>20.42%</td>\n",
              "      <td>43.1</td>\n",
              "    </tr>\n",
              "    <tr>\n",
              "      <th>4</th>\n",
              "      <td>0.174397</td>\n",
              "      <td>0.220349</td>\n",
              "      <td>136</td>\n",
              "      <td>614</td>\n",
              "      <td>8.15%</td>\n",
              "      <td>10.53%</td>\n",
              "      <td>71.64%</td>\n",
              "      <td>30.95%</td>\n",
              "      <td>40.7</td>\n",
              "    </tr>\n",
              "    <tr>\n",
              "      <th>5</th>\n",
              "      <td>0.146473</td>\n",
              "      <td>0.174354</td>\n",
              "      <td>126</td>\n",
              "      <td>624</td>\n",
              "      <td>7.55%</td>\n",
              "      <td>10.70%</td>\n",
              "      <td>79.20%</td>\n",
              "      <td>41.65%</td>\n",
              "      <td>37.5</td>\n",
              "    </tr>\n",
              "    <tr>\n",
              "      <th>6</th>\n",
              "      <td>0.124539</td>\n",
              "      <td>0.146424</td>\n",
              "      <td>100</td>\n",
              "      <td>650</td>\n",
              "      <td>6.00%</td>\n",
              "      <td>11.15%</td>\n",
              "      <td>85.19%</td>\n",
              "      <td>52.79%</td>\n",
              "      <td>32.4</td>\n",
              "    </tr>\n",
              "    <tr>\n",
              "      <th>7</th>\n",
              "      <td>0.102797</td>\n",
              "      <td>0.124499</td>\n",
              "      <td>85</td>\n",
              "      <td>665</td>\n",
              "      <td>5.10%</td>\n",
              "      <td>11.40%</td>\n",
              "      <td>90.29%</td>\n",
              "      <td>64.20%</td>\n",
              "      <td>26.1</td>\n",
              "    </tr>\n",
              "    <tr>\n",
              "      <th>8</th>\n",
              "      <td>0.082626</td>\n",
              "      <td>0.102777</td>\n",
              "      <td>62</td>\n",
              "      <td>688</td>\n",
              "      <td>3.72%</td>\n",
              "      <td>11.80%</td>\n",
              "      <td>94.00%</td>\n",
              "      <td>75.99%</td>\n",
              "      <td>18.0</td>\n",
              "    </tr>\n",
              "    <tr>\n",
              "      <th>9</th>\n",
              "      <td>0.059808</td>\n",
              "      <td>0.082597</td>\n",
              "      <td>59</td>\n",
              "      <td>691</td>\n",
              "      <td>3.54%</td>\n",
              "      <td>11.85%</td>\n",
              "      <td>97.54%</td>\n",
              "      <td>87.84%</td>\n",
              "      <td>9.7</td>\n",
              "    </tr>\n",
              "    <tr>\n",
              "      <th>10</th>\n",
              "      <td>0.008146</td>\n",
              "      <td>0.059686</td>\n",
              "      <td>41</td>\n",
              "      <td>709</td>\n",
              "      <td>2.46%</td>\n",
              "      <td>12.16%</td>\n",
              "      <td>100.00%</td>\n",
              "      <td>100.00%</td>\n",
              "      <td>-0.0</td>\n",
              "    </tr>\n",
              "  </tbody>\n",
              "</table>\n",
              "</div>"
            ],
            "text/plain": [
              "        min_prob  max_prob  events  nonevents event_rate nonevent_rate  \\\n",
              "Decile                                                                   \n",
              "1       0.573350  0.917407     522        228     31.29%         3.91%   \n",
              "2       0.309973  0.573074     327        423     19.60%         7.25%   \n",
              "3       0.220412  0.309917     210        540     12.59%         9.26%   \n",
              "4       0.174397  0.220349     136        614      8.15%        10.53%   \n",
              "5       0.146473  0.174354     126        624      7.55%        10.70%   \n",
              "6       0.124539  0.146424     100        650      6.00%        11.15%   \n",
              "7       0.102797  0.124499      85        665      5.10%        11.40%   \n",
              "8       0.082626  0.102777      62        688      3.72%        11.80%   \n",
              "9       0.059808  0.082597      59        691      3.54%        11.85%   \n",
              "10      0.008146  0.059686      41        709      2.46%        12.16%   \n",
              "\n",
              "       cum_eventrate cum_noneventrate    KS  \n",
              "Decile                                       \n",
              "1             31.29%            3.91%  27.4  \n",
              "2             50.90%           11.16%  39.7  \n",
              "3             63.49%           20.42%  43.1  \n",
              "4             71.64%           30.95%  40.7  \n",
              "5             79.20%           41.65%  37.5  \n",
              "6             85.19%           52.79%  32.4  \n",
              "7             90.29%           64.20%  26.1  \n",
              "8             94.00%           75.99%  18.0  \n",
              "9             97.54%           87.84%   9.7  \n",
              "10           100.00%          100.00%  -0.0  "
            ]
          },
          "metadata": {},
          "execution_count": 138
        }
      ]
    },
    {
      "cell_type": "markdown",
      "metadata": {
        "id": "3z5MDOfUayho"
      },
      "source": [
        "KS static score is just increased by .1% after tuning the parameters"
      ]
    }
  ]
}